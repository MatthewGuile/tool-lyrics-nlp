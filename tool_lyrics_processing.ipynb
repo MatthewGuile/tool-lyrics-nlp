{
  "nbformat": 4,
  "nbformat_minor": 0,
  "metadata": {
    "colab": {
      "name": "tool-lyrics-processing.ipynb",
      "provenance": [],
      "collapsed_sections": [],
      "authorship_tag": "ABX9TyPuSgc6ItNiy2dbh0uPWH2V",
      "include_colab_link": true
    },
    "kernelspec": {
      "name": "python3",
      "display_name": "Python 3"
    },
    "language_info": {
      "name": "python"
    }
  },
  "cells": [
    {
      "cell_type": "markdown",
      "metadata": {
        "id": "view-in-github",
        "colab_type": "text"
      },
      "source": [
        "<a href=\"https://colab.research.google.com/github/MatthewGuile/tool-lyrics-nlp/blob/main/tool_lyrics_processing.ipynb\" target=\"_parent\"><img src=\"https://colab.research.google.com/assets/colab-badge.svg\" alt=\"Open In Colab\"/></a>"
      ]
    },
    {
      "cell_type": "markdown",
      "source": [
        "# **Introduction**"
      ],
      "metadata": {
        "id": "UDHTvHvrXN3I"
      }
    },
    {
      "cell_type": "code",
      "execution_count": 1,
      "metadata": {
        "id": "dA1FbKdeWaAQ"
      },
      "outputs": [],
      "source": [
        "import json \n",
        "import requests\n",
        "\n",
        "url = \"https://raw.githubusercontent.com/MatthewGuile/tool-lyrics-nlp/main/files/Lyrics_Tool.json\"\n",
        "resp = requests.get(url)\n",
        "data = json.loads(resp.text)"
      ]
    },
    {
      "cell_type": "code",
      "source": [
        "data.keys()"
      ],
      "metadata": {
        "colab": {
          "base_uri": "https://localhost:8080/"
        },
        "id": "XqBrsaBPZ_KM",
        "outputId": "74f8cf56-999e-411f-b037-e074b92f15f7"
      },
      "execution_count": 2,
      "outputs": [
        {
          "output_type": "execute_result",
          "data": {
            "text/plain": [
              "dict_keys(['alternate_names', 'api_path', 'description', 'facebook_name', 'followers_count', 'header_image_url', 'id', 'image_url', 'instagram_name', 'is_meme_verified', 'is_verified', 'name', 'translation_artist', 'twitter_name', 'url', 'current_user_metadata', 'description_annotation', 'user', 'songs'])"
            ]
          },
          "metadata": {},
          "execution_count": 2
        }
      ]
    },
    {
      "cell_type": "code",
      "source": [
        "import pandas as pd\n",
        "\n",
        "# load data as a pandas dataframe\n",
        "df0 = pd.DataFrame(data['songs'])"
      ],
      "metadata": {
        "id": "UqIG79iYabhk"
      },
      "execution_count": 22,
      "outputs": []
    },
    {
      "cell_type": "code",
      "source": [
        "df0.keys()"
      ],
      "metadata": {
        "colab": {
          "base_uri": "https://localhost:8080/"
        },
        "id": "MZOLB14ObWYi",
        "outputId": "1b6c7060-995c-48c2-e5cf-d9956d9d666f"
      },
      "execution_count": 4,
      "outputs": [
        {
          "output_type": "execute_result",
          "data": {
            "text/plain": [
              "Index(['annotation_count', 'api_path', 'artist_names', 'full_title',\n",
              "       'header_image_thumbnail_url', 'header_image_url', 'id',\n",
              "       'lyrics_owner_id', 'lyrics_state', 'path', 'pyongs_count',\n",
              "       'song_art_image_thumbnail_url', 'song_art_image_url', 'stats', 'title',\n",
              "       'title_with_featured', 'url', 'primary_artist', 'apple_music_id',\n",
              "       'apple_music_player_url', 'description', 'embed_content',\n",
              "       'featured_video', 'lyrics_placeholder_reason', 'recording_location',\n",
              "       'release_date', 'release_date_for_display', 'current_user_metadata',\n",
              "       'album', 'custom_performances', 'description_annotation',\n",
              "       'featured_artists', 'lyrics_marked_complete_by', 'media',\n",
              "       'producer_artists', 'song_relationships', 'verified_annotations_by',\n",
              "       'verified_contributors', 'verified_lyrics_by', 'writer_artists',\n",
              "       'artist', 'lyrics'],\n",
              "      dtype='object')"
            ]
          },
          "metadata": {},
          "execution_count": 4
        }
      ]
    },
    {
      "cell_type": "code",
      "source": [
        "# select relevant columns \n",
        "df = df0[['title', 'lyrics', 'release_date']]"
      ],
      "metadata": {
        "id": "b-QL1yHkbabN"
      },
      "execution_count": 5,
      "outputs": []
    },
    {
      "cell_type": "code",
      "source": [
        "# scrape albums and create column \n",
        "album_list = []\n",
        "\n",
        "for i in range(len(df0['album'])):\n",
        "    try:\n",
        "        album_list.append(df0['album'][i]['name'])\n",
        "    except:\n",
        "        album_list.append(None)\n",
        "        continue\n",
        "\n",
        "df['album'] = album_list\n"
      ],
      "metadata": {
        "id": "Tf2XH3aMa2t5"
      },
      "execution_count": 30,
      "outputs": []
    },
    {
      "cell_type": "code",
      "source": [
        "# select the albums required for analysis and drop irrelevant data\n",
        "relevant_albums = ['Opiate', 'Undertow', 'Ænima', '10,000 Days', 'Fear Inoculum']\n",
        "\n",
        "df = df[df['album'].isin(relevant_albums)]"
      ],
      "metadata": {
        "id": "TMItG90CxQYL"
      },
      "execution_count": 31,
      "outputs": []
    }
  ]
}